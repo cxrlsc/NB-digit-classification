{
 "cells": [
  {
   "cell_type": "markdown",
   "metadata": {
    "id": "iNALzZOKTzOS"
   },
   "source": [
    "# Project 2: Digit Classification Naive Bayes\n",
    "\n",
    "**Solution**"
   ]
  },
  {
   "cell_type": "markdown",
   "metadata": {
    "id": "EBRkdIUUTzOV"
   },
   "source": [
    "# Intro\n",
    "---\n",
    "In this project, you'll continue working on your own image recognition system for classifying digits. Read through the code and the instructions carefully and add your own code where indicated. Each problem can be addressed succinctly with the included packages -- please don't add any more. \n",
    "As always, you're welcome to work on the project in groups and discuss ideas over Slack, but <b> please prepare your own write-up (with your own code). </b>\n",
    "\n",
    "\n",
    "## Grading\n",
    "---\n",
    " - Make sure to answer every part in every question.\n",
    " - There are 6 questions, each equally weighted and an additional bonus question.\n",
    " - The extra credit question will be graded based on your attempts at feature engineering and resulting improved accuracy.\n",
    " - Read carefully what is asked including the notes.\n",
    " - Additional points may be deducted if:\n",
    "   - the code is not clean, well commented,\n",
    "  -  if the functions or answers are too long.\n",
    "\n",
    "## Requirements:\n",
    "---\n",
    "1. Comment your code.\n",
    "1. All graphs should have titles, label for each axis, and if needed a legend. It should be understandable on its own.\n",
    "1. All code must run on colab.research.google.com\n",
    "1. You should not import any additional libraries.\n",
    "1. Try and minimize the use of the global namespace (meaning keep things in functions).\n",
    "\n",
    "## Additional Reading and notes\n",
    "---\n",
    "If you're interested, check out these links related to digit recognition:\n",
    "\n",
    "* Yann Lecun's MNIST benchmarks: http://yann.lecun.com/exdb/mnist/\n",
    "* Stanford Streetview research and data: http://ufldl.stanford.edu/housenumbers/\n",
    "\n",
    "Finally, if you'd like to get started with Tensorflow, you can read through this tutorial: https://www.tensorflow.org/tutorials/keras/basic_classification. It uses a dataset called \"fashion_mnist\", which is identical in structure to the original digit mnist, but uses images of clothing rather than images of digits. The number of training examples and number of labels is the same. In fact, you can simply replace the code that loads \"fashion_mnist\" with \"mnist\" and everything should work fine."
   ]
  },
  {
   "cell_type": "code",
   "execution_count": 14,
   "metadata": {
    "id": "r8u7GmsDTzOX"
   },
   "outputs": [],
   "source": [
    "# This tells matplotlib not to try opening a new window for each plot.\n",
    "%matplotlib inline\n",
    "\n",
    "# Import a bunch of libraries.\n",
    "import time\n",
    "import numpy as np\n",
    "import pandas as pd\n",
    "import matplotlib.pyplot as plt\n",
    "from matplotlib.ticker import MultipleLocator\n",
    "from sklearn.pipeline import Pipeline\n",
    "from sklearn.datasets import fetch_openml\n",
    "from sklearn.neighbors import KNeighborsClassifier\n",
    "from sklearn.metrics import confusion_matrix\n",
    "from sklearn.linear_model import LinearRegression\n",
    "from sklearn.naive_bayes import BernoulliNB\n",
    "from sklearn.naive_bayes import MultinomialNB\n",
    "from sklearn.naive_bayes import GaussianNB\n",
    "from sklearn.model_selection import GridSearchCV\n",
    "from sklearn.metrics import classification_report\n",
    "\n",
    "# Set the randomizer seed so results are the same each time.\n",
    "np.random.seed(0)"
   ]
  },
  {
   "cell_type": "code",
   "execution_count": 2,
   "metadata": {
    "id": "bWOWoq_dTzOY"
   },
   "outputs": [
    {
     "data": {
      "text/plain": [
       "'0.24.1'"
      ]
     },
     "execution_count": 2,
     "metadata": {},
     "output_type": "execute_result"
    }
   ],
   "source": [
    "import sklearn\n",
    "sklearn.__version__"
   ]
  },
  {
   "cell_type": "markdown",
   "metadata": {
    "id": "J1-CAjA9TzOa"
   },
   "source": [
    "Load the data. Notice that the data gets partitioned into training, development, and test sets. Also, a small subset of the training data called mini_train_data and mini_train_labels gets defined, which you should use in all the experiments below, unless otherwise noted."
   ]
  },
  {
   "cell_type": "code",
   "execution_count": 3,
   "metadata": {
    "id": "f9kPmCW0TzOb"
   },
   "outputs": [
    {
     "name": "stdout",
     "output_type": "stream",
     "text": [
      "data shape:  (70000, 784)\n",
      "label shape: (70000,)\n"
     ]
    }
   ],
   "source": [
    "# Load the digit data from https://www.openml.org/d/554 or from default local location '~/scikit_learn_data/...'\n",
    "X, Y = fetch_openml(name='mnist_784', as_frame=False, return_X_y=True, cache=False)\n",
    "\n",
    "# Rescale grayscale values to [0,1].\n",
    "X = X / 255.0\n",
    "\n",
    "# Shuffle the input: create a random permutation of the integers between 0 and the number of data points and apply this\n",
    "# permutation to X and Y.\n",
    "# NOTE: Each time you run this cell, you'll re-shuffle the data, resulting in a different ordering.\n",
    "shuffle = np.random.permutation(np.arange(X.shape[0]))\n",
    "X, Y = X[shuffle], Y[shuffle]\n",
    "\n",
    "print('data shape: ', X.shape)\n",
    "print('label shape:', Y.shape)\n",
    "\n",
    "# Set some variables to hold test, dev, and training data.\n",
    "test_data, test_labels = X[61000:], Y[61000:]\n",
    "dev_data, dev_labels = X[60000:61000], Y[60000:61000]\n",
    "train_data, train_labels = X[:60000], Y[:60000]\n",
    "mini_train_data, mini_train_labels = X[:1000], Y[:1000]"
   ]
  },
  {
   "cell_type": "markdown",
   "metadata": {
    "id": "gr40-NstTzOl"
   },
   "source": [
    "### Question 1: Applying a smoothing using numpy.\n",
    "---\n",
    "\n",
    "A common image processing technique is to smooth an image by **blurring**. The idea is that the value of a particular pixel is estimated as the weighted combination of the original value and the values around it. Typically, the blurring is Gaussian, i.e., the weight of a pixel's influence is determined by a Gaussian function over the distance to the relevant pixel.\n",
    "\n",
    "1. Implement a simplified Gaussian blur filter by just using the 8 neighboring pixels like this: the smoothed value of a pixel is a weighted combination of the original value and the 8 neighboring values.\n",
    "1. Choose some weights as a starting point. Produce and evaluate four 1-Nearest Neighbor models by applying your blur filter in these ways:\n",
    "  1. Do not use the filter\n",
    "  1. Filter the training data but not the dev data\n",
    "  1. Filter the dev data but not the training data\n",
    "  1. Filter both training data and dev data\n",
    "1. Show the accuracies of the four models evaluated as described. What do you see? Can you explain why this is?\n",
    "1. Experiment with weights that makes one model's accuracy at least 0.9.\n",
    "\n",
    "Notes:\n",
    "* Train on the (filtered) mini train set.\n",
    "* Evaluate performance on the (filtered) dev set.\n",
    "* A good trick to simplify your code is to use numpy's pad function to add 0s around your original array so you don't have to deal with \"edge cases\".\n",
    "* In addition, you can use numpy to multiply and sum slices of two arrays.\n",
    "* [This notebook](https://colab.research.google.com/drive/1eJXTQLtREXQjQIsLOA9uCrBl6B049-pO) might help shows some example numpy code.\n",
    "* In general, [numpy operations will be much faster than for loops](https://colab.research.google.com/drive/1KJI4JtuIqVdyZHTTe_mAlKYA5XdLFp3_). \n",
    "* There are other Guassian blur filters available, for example in `scipy.ndimage.filters`. You are welcome to experiment with those, but in this question, please implement your own."
   ]
  },
  {
   "cell_type": "code",
   "execution_count": 12,
   "metadata": {
    "id": "ebHGUU0eTzOl"
   },
   "outputs": [
    {
     "name": "stdout",
     "output_type": "stream",
     "text": [
      "Model 1 Accuracy: 0.884\n",
      "Model 2 Accuracy: 0.906\n",
      "Model 3 Accuracy: 0.868\n",
      "Model 4 Accuracy: 0.901\n"
     ]
    }
   ],
   "source": [
    "def Q1():\n",
    "### STUDENT START ###\n",
    "\n",
    "    def get_adjacent(arr, row, col):\n",
    "        val, right, left = arr[row][col], arr[row][col + 1], arr[row][col-1]\n",
    "        top, bottom, top_left  = arr[row - 1][col], arr[row + 1][col], arr[row - 1][col - 1] \n",
    "        top_right, bottom_left, bottom_right = arr[row - 1][col + 1], arr[row + 1][col - 1], arr[row + 1][col + 1]\n",
    "        return np.array([top_left, top, top_right, \n",
    "                         left, val, right, \n",
    "                         bottom_left, bottom, bottom_right]).reshape((3, 3))\n",
    "\n",
    "    def smooth(data):\n",
    "        #Smoothing out the pixels for each image in MINI_TRAIN_DATA\n",
    "        kernel = np.array([[.1, .1, .1], [.1, .2, .1], [.1, .1, .1]])\n",
    "\n",
    "        smoothed_data = np.zeros((data.shape))\n",
    "\n",
    "        count = 0\n",
    "        for image in data:\n",
    "            image_matrix, rows, cols = image.reshape((28, 28)), 28, 28\n",
    "            output = np.zeros((rows, cols))  \n",
    "            for row in np.arange(rows - 1):\n",
    "                for col in np.arange(cols - 1):\n",
    "                    output[row, col] = np.sum(get_adjacent(image_matrix, row, col) * kernel)\n",
    "\n",
    "            smoothed_data[count] = output.reshape((784,))\n",
    "            count += 1\n",
    "\n",
    "        return smoothed_data\n",
    "    \n",
    "    #Filtering out data for future use in KNN model\n",
    "    smooth_mini_train_data = smooth(mini_train_data)\n",
    "    smooth_dev_data = smooth(dev_data)\n",
    "    \n",
    "    def create_and_evaluate_KNN(training_set, dev_set, num):\n",
    "        #Helper function to create and evaluate a KNN model\n",
    "        knn = KNeighborsClassifier(n_neighbors=1, p=2, metric='minkowski')\n",
    "        knn.fit(training_set, mini_train_labels)\n",
    "        accuracy = knn.score(dev_set, dev_labels)\n",
    "        print(f\"Model {num} Accuracy: {accuracy}\")\n",
    "        \n",
    "    \n",
    "    ### Creating four KNN models ### \n",
    "    # Model 1: Do not use the filter\n",
    "    create_and_evaluate_KNN(mini_train_data, dev_data, 1)\n",
    "    \n",
    "    #Model 2: Filter training data, not the dev data\n",
    "    create_and_evaluate_KNN(smooth_mini_train_data, dev_data, 2)\n",
    "    \n",
    "    #Model 3: Filter dev data, not the training data\n",
    "    create_and_evaluate_KNN(mini_train_data, smooth_dev_data, 3)\n",
    "    \n",
    "    #Model 4: Filter both training and dev data\n",
    "    create_and_evaluate_KNN(smooth_mini_train_data, smooth_dev_data, 4)\n",
    "    \n",
    "### STUDENT END ###\n",
    "\n",
    "Q1()"
   ]
  },
  {
   "cell_type": "markdown",
   "metadata": {
    "id": "aN3HZPGuTzOn"
   },
   "source": [
    "### Question 2: Modeling your data and experimenting with different Naive Bayes models. \n",
    "---\n",
    "\n",
    "1. Produce two Naive Bayes models and evaluate their performances.  Recall that Naive Bayes estimates P(feature|label), where each label is a categorical, not a real number.\n",
    "  1. For the first model, map pixel values to either 0 or 1, representing white or black - you should pre-process the data or use `BernoulliNB`'s `binarize` parameter to set the white/black separation threshold to 0.1.  Use `BernoulliNB` to produce the model.\n",
    "  1. For the second model, map pixel values to either 0, 1, or 2, representing white, gray, or black - you should pre-process the data, seting the white/gray/black separation thresholds to 0.1 and 0.9.  Here you'll likely need to implement a `trianarize` helper function. Since we are going beyond the binary representation of our features, you should use `MultinomialNB` to produce the model.\n",
    "1. Show the Bernoulli model accuracy and the Multinomial model accuracy.\n",
    "1. Does the multinomial version improve the results? Why or why not?\n",
    "\n",
    "Notes:\n",
    "* Train on the mini train set.\n",
    "* Evaluate performance on the dev set.\n",
    "\n"
   ]
  },
  {
   "cell_type": "code",
   "execution_count": 5,
   "metadata": {
    "id": "_1edM3ehTzOn"
   },
   "outputs": [
    {
     "name": "stdout",
     "output_type": "stream",
     "text": [
      "Binomial NB accuracy: 0.809\n",
      "Multinomial NB accuracy: 0.807\n"
     ]
    }
   ],
   "source": [
    "# Solution with binarization by explicit binarize function\n",
    "\n",
    "def Q2():\n",
    "### STUDENT START ###\n",
    "\n",
    "    ##### Model 1: Binomial Naive Bayes #####\n",
    "    #Binarizing data for the model\n",
    "    binarized_mini_train_data = np.where(mini_train_data > 0, 1, 0)\n",
    "    binarized_dev_data = np.where(dev_data > 0, 1, 0)\n",
    "    \n",
    "    #Training and evaluating the model \n",
    "    BNB = BernoulliNB()\n",
    "    BNB.fit(binarized_mini_train_data, mini_train_labels)\n",
    "    accuracy = BNB.score(binarized_dev_data, dev_labels)\n",
    "    print(f\"Binomial NB accuracy: {accuracy}\")\n",
    "    \n",
    "    \n",
    "    ##### Model 2: Multinomial Naive Bayes #####\n",
    "    def trinarize(arr):\n",
    "        #Helper function for trinarization \n",
    "        output = np.zeros(arr.shape)\n",
    "        output[(arr < 0.1)] = 0\n",
    "        output[(arr >= 0.1)] = 1\n",
    "        output[(arr >= 0.9)] = 2\n",
    "        return output\n",
    "    \n",
    "    trinarized_mini_train_data = trinarize(mini_train_data)\n",
    "    trinarized_dev_data = trinarize(dev_data)\n",
    "    \n",
    "    #Training and evaluating the model\n",
    "    MNB = MultinomialNB()\n",
    "    MNB.fit(trinarized_mini_train_data, mini_train_labels)\n",
    "    accuracy = MNB.score(trinarized_dev_data, dev_labels)\n",
    "    print(f\"Multinomial NB accuracy: {accuracy}\")\n",
    "    \n",
    "### STUDENT END ###\n",
    "\n",
    "Q2()"
   ]
  },
  {
   "cell_type": "markdown",
   "metadata": {
    "id": "Bbbpzl5ETzOp"
   },
   "source": [
    "ANSWER: The multinomial NB classifier **did not** improve accuracy. This is because introducing a third class does not really help with the overall classification results, and in fact it may be the case that doing so introduces more noise to the data such that the model performs worse."
   ]
  },
  {
   "cell_type": "markdown",
   "metadata": {
    "id": "ymzuQZwsTzOp"
   },
   "source": [
    "### Question 3: Applying the grid search technique.\n",
    "1. Search across several values of the LaPlace smoothing parameter (alpha) to find its effect on a Bernoulli Naive Bayes model's performance.  Show the accuracy at each alpha value.\n",
    "1. What is the best value for alpha? What is the accuracy when alpha is near 0? Is this what you'd expect?\n",
    "\n",
    "Notes:\n",
    "* Set binarization threshold to 0.\n",
    "* Train on the mini train set.\n",
    "* Evaluate performance by 5-fold cross-validation. \n",
    "* Use `GridSearchCV(..., ..., cv=..., scoring='accuracy', iid=False)` to vary alpha and evaluate performance by cross-validation.\n",
    "* Cross-validation is based on partitions of the training data, so results will be a bit different than if you had used the dev set to evaluate performance.\n",
    "\n"
   ]
  },
  {
   "cell_type": "code",
   "execution_count": 6,
   "metadata": {
    "id": "1qc1fG0OTzOq"
   },
   "outputs": [
    {
     "name": "stdout",
     "output_type": "stream",
     "text": [
      "Average accuracy for alpha = 1e-10: 0.8139999999999998\n",
      "Average accuracy for alpha = 0.0001: 0.819\n",
      "Average accuracy for alpha = 0.001: 0.825\n",
      "Average accuracy for alpha = 0.01: 0.8219999999999998\n",
      "Average accuracy for alpha = 0.1: 0.818\n",
      "Average accuracy for alpha = 0.5: 0.8130000000000001\n",
      "Average accuracy for alpha = 1.0: 0.8089999999999999\n",
      "Average accuracy for alpha = 2.0: 0.8049999999999999\n",
      "Average accuracy for alpha = 10.0: 0.783\n"
     ]
    }
   ],
   "source": [
    "def Q3(alphas):\n",
    "### STUDENT START ###\n",
    "    nb = GridSearchCV(estimator=BernoulliNB(binarize=0), param_grid=alphas,\n",
    "                      cv = 5, scoring='accuracy')\n",
    "    \n",
    "    nb.fit(mini_train_data, mini_train_labels)\n",
    "    \n",
    "    mean_accuracies = nb.cv_results_['mean_test_score']\n",
    "    \n",
    "    for alpha, accuracy in zip(list(alphas['alpha']), mean_accuracies):\n",
    "        print(f\"Average accuracy for alpha = {alpha}: {accuracy}\")\n",
    "    \n",
    "        \n",
    "### STUDENT END ###\n",
    "\n",
    "alphas = {'alpha': [1.0e-10, 0.0001, 0.001, 0.01, 0.1, 0.5, 1.0, 2.0, 10.0]}\n",
    "Q3(alphas)\n"
   ]
  },
  {
   "cell_type": "markdown",
   "metadata": {
    "id": "6g4fnGFPTzOq"
   },
   "source": [
    "ANSWER: When $\\alpha = 1.0^{-10}$ (closest value to 0), the accuracy is shown to be around $0.814$. This accuracy slowly increases as $\\alpha$ increases, and reaches its maximum point at $\\alpha = 0.001$ where $accuracy \\approx 82.5 \\%$, as such, this is the *best value for $\\alpha$.* I did not expect this to be the case, I believed that $\\alpha$'s closer to 0 will produce better accuracies. "
   ]
  },
  {
   "cell_type": "markdown",
   "metadata": {
    "id": "aQ6MaDU6TzOr"
   },
   "source": [
    "### Question 4: Experimenting with Gaussian Naive Bayes\n",
    "---\n",
    "1. Produce a model using Guassian Naive Bayes, which is intended for real-valued features, and evaluate performance. You will notice that it does not work so well. \n",
    "1. Diagnose and explain the problem.\n",
    "1. Apply a simple fix so that the model accuracy is around the same as for a Bernoulli Naive Bayes model. \n",
    "1. Show the model accuracy before your fix and the model accuracy after your fix.  \n",
    "1. Explain your solution.\n",
    "\n",
    "Notes:\n",
    "* Train on the mini train set.\n",
    "* Evaluate performance on the dev set.\n",
    "* Take a look at var_smoothing argument for GaussianNB.\n",
    "* Feel free to  examine theta and sigma to better understand what's happening. In general though, **it is not a good idea to mess with internal variables of the model**. These are stored in the model's `theta_` and `sigma_` attributes."
   ]
  },
  {
   "cell_type": "code",
   "execution_count": 7,
   "metadata": {
    "id": "XqW86YbKTzOr"
   },
   "outputs": [
    {
     "name": "stdout",
     "output_type": "stream",
     "text": [
      "Gaussian NB accuracy: 0.593\n",
      "Smoothed Gaussian NB accuracy: 0.816 \n"
     ]
    }
   ],
   "source": [
    "def Q4():\n",
    "\n",
    "### STUDENT END ###\n",
    "    GNB = GaussianNB()\n",
    "    GNB.fit(mini_train_data, mini_train_labels)\n",
    "    accuracy = GNB.score(dev_data, dev_labels)\n",
    "    print(f\"Gaussian NB accuracy: {accuracy}\")\n",
    "    \n",
    "    smoothed_GNB = GaussianNB(var_smoothing=0.05)\n",
    "    smoothed_GNB.fit(mini_train_data, mini_train_labels)\n",
    "    accuracy = smoothed_GNB.score(dev_data, dev_labels)\n",
    "    print(f\"Smoothed Gaussian NB accuracy: {accuracy} \")\n",
    "    \n",
    "    \n",
    "\n",
    "### STUDENT END ###\n",
    "\n",
    "Q4()"
   ]
  },
  {
   "cell_type": "markdown",
   "metadata": {
    "id": "wE5eQXsPTzOs"
   },
   "source": [
    "ANSWER: The default Gaussian NB model's accuracy is $\\approx 59.3\\%$. Upon researching the `var_smoothing` argument, I believe that the default value assigned makes it so that the model is less generalizable as it assumes a very low variance in the underlying distribution. By increasing this value to be somewhere closer to 0, we are performing smoothing akin to Laplace smoothing for the Bernoulli and Multinomial NB. Increasing `var_smoothing` thus tells our model that the underlying distribution has a higher variance than the default model, this higher generalizability is reflected by the higher accuracy on the dev set, which reaches a maximum of $\\approx 82\\%$ when `var_smoothing`$\\in[0.05- 0.09]$"
   ]
  },
  {
   "cell_type": "markdown",
   "metadata": {
    "id": "AXx4SGNeTzOs"
   },
   "source": [
    "### Question 5: Naive Bayes as a generative model\n",
    "---\n",
    "Because Naive Bayes produces a generative model, you can use it to generate digit images.\n",
    "\n",
    "1. Produce a Bernoulli Naive Bayes model and then use it to generate a 10x10 grid with 10 example images of each digit. Each pixel output will be either 0 or 1: randomly generating a number and then comparing it to the estimated probability of the pixel being either 0 or 1.  Show the grid.\n",
    "1. How do the generated digit images compare to the training digit images?\n",
    "\n",
    "Notes:\n",
    "* You can use np.random.rand() to generate random numbers from a uniform distribution.\n",
    "* The estimated probability of each pixel being 0 or 1 is stored in the model's `feature_log_prob_` attribute. You can use `np.exp()` to convert a log probability back to a probability.\n",
    "\n"
   ]
  },
  {
   "cell_type": "code",
   "execution_count": 13,
   "metadata": {
    "id": "WDCNbv7ETzOt",
    "scrolled": false
   },
   "outputs": [
    {
     "data": {
      "image/png": "[encoded data removed]",
      "text/plain": [
       "<Figure size 432x432 with 100 Axes>"
      ]
     },
     "metadata": {},
     "output_type": "display_data"
    }
   ],
   "source": [
    "def Q5(num_examples):\n",
    "### STUDENT START ###\n",
    "\n",
    "    #Training Gaussian NB \n",
    "    binarized_mini_train_data = np.where(mini_train_data > 0, 1, 0)\n",
    "    BNB = BernoulliNB(alpha=0.001)\n",
    "    BNB.fit(binarized_mini_train_data, mini_train_labels)\n",
    "    \n",
    "    posterior_probabilities = BNB.feature_log_prob_\n",
    "    \n",
    "    def generate(probabilities):\n",
    "        random_numbers = np.random.rand(784)\n",
    "        pixels = np.zeros((784,))\n",
    "        for i in range(784):\n",
    "            if random_numbers[i] <= np.exp(probabilities[i]):\n",
    "                pixels[i] = 1\n",
    "        return pixels.reshape((28,28))\n",
    "    \n",
    "    \n",
    "    counter = 1\n",
    "    fig = plt.figure()\n",
    "    fig.subplots_adjust(hspace=0.4, wspace=0.4)\n",
    "    counter = 1\n",
    "    for i in range(10):\n",
    "        for j in range(10):\n",
    "            plt.rcParams[\"figure.figsize\"] = (6, 6)\n",
    "            fig.add_subplot(10, 10, counter, frameon=False)\n",
    "            plt.imshow(generate(posterior_probabilities[j]))\n",
    "            plt.xticks([])\n",
    "            plt.yticks([])\n",
    "            counter +=1\n",
    "    fig.suptitle(\"Gaussian NB Generated Digits\", y=0.92)\n",
    "\n",
    "\n",
    "### STUDENT END ###\n",
    "\n",
    "Q5(10)"
   ]
  },
  {
   "cell_type": "markdown",
   "metadata": {
    "id": "2ENXdzngTzOu"
   },
   "source": [
    "ANSWER: One of the biggest differences between the original and generated images is that the generated images are binarized. The generated images also appear to contain more noise, but this makes sense given the random generation process. "
   ]
  },
  {
   "cell_type": "markdown",
   "metadata": {
    "id": "CRkUEi50TzOu"
   },
   "source": [
    "### Question 6: Model Calibraiton\n",
    "---\n",
    "Recall that:\n",
    " * a **strongly calibrated** classifier is rougly 90% accurate when it says it is 90% accurate. The model's estimated posterior probability of the predicted class is indeed 0.9. \n",
    " * A **weakly calibrated** classifier is more accurate when it \"says\" it is more accurate. The actual accuracy is higher when the model's estimated posterior probability is higher.\n",
    " * A **poorly calibrated** classifier has no positive correlation between the model's estimate posterior probability and the actual accuracy.\n",
    "\n",
    "1. Produce a Bernoulli Naive Bayes model.  \n",
    "1. Evaluate performance: \n",
    "  1. Partition the dev set into several buckets based on the estimated posterior probabilities of the predicted classes (predict_proba)\n",
    "    - Think of it as a bin in a histogram, where each bin groups a range of estimated posterior probabilities of the predicted classes (predict_proba).\n",
    "    - Then estimate the actual accuracy the classifier achieved for each bucket. \n",
    "    - So, for each prediction:\n",
    "       - Find the bucket whose range includes the estimated posterior probability, \n",
    "       - and update \"correct\" and \"total\" counters accordingly. \n",
    "       - Show the accuracy for each bucket.\n",
    "1. How would you characterize the calibration for this Bernoulli Naive Bayes model according to the definitions above?\n",
    "\n",
    "Notes:\n",
    "* Set LaPlace smoothing (alpha) to the optimal value (from part 8).\n",
    "* Set binarization threshold to 0.\n",
    "* Train on the mini train set.\n",
    "* Evaluate perfromance on the dev set.\n",
    "\n"
   ]
  },
  {
   "cell_type": "code",
   "execution_count": 9,
   "metadata": {
    "id": "3Gz3NDY9TzOu"
   },
   "outputs": [
    {
     "data": {
      "text/plain": [
       "array([0.81      , 0.81      , 0.80931264, 0.80773481, 0.80837004,\n",
       "       0.80858086, 0.80858086, 0.80879121, 0.823     ])"
      ]
     },
     "execution_count": 9,
     "metadata": {},
     "output_type": "execute_result"
    }
   ],
   "source": [
    "def Q6(buckets, correct, total):\n",
    "### STUDENT START ###\n",
    "    #Train BernoulliNB model with optimal smoothing parameters\n",
    "    binarize = lambda x: np.where(x > 0, 1, 0)\n",
    "    BNB = BernoulliNB(alpha=0.001)\n",
    "    BNB.fit(binarize(mini_train_data), mini_train_labels)\n",
    "\n",
    "    posterior_probabilities = BNB.feature_log_prob_\n",
    "    \n",
    "    #Predict labels using dev data\n",
    "    predicted_y = BNB.predict(binarize(dev_data))\n",
    "    \n",
    "    #Predict probabilities using test data\n",
    "    predicted_log_probs = BNB.predict_log_proba(binarize(dev_data))\n",
    "    \n",
    "    binarized_dev_data = binarize(dev_data)\n",
    "    for i in range(binarized_dev_data.shape[0]):\n",
    "        pred_y = predicted_y[i]\n",
    "        pred_log_prob = predicted_log_probs[i]\n",
    "        actual_y = dev_labels[i]\n",
    "        counter = 0 \n",
    "        for bucket in buckets:\n",
    "            if np.exp(pred_log_prob)[0] <= bucket:\n",
    "                total[counter] += 1 \n",
    "                if pred_y == actual_y:\n",
    "                    correct[counter] += 1\n",
    "            counter += 1\n",
    "            \n",
    "    accuracy = np.array(correct)/np.array(total)\n",
    "    return accuracy\n",
    "\n",
    "### STUDENT END ###\n",
    "\n",
    "buckets = [0.5, 0.9, 0.999, 0.99999, 0.9999999, 0.999999999, 0.99999999999, 0.9999999999999, 1.0]\n",
    "correct = [0 for i in buckets]\n",
    "total = [0 for i in buckets]\n",
    "\n",
    "Q6(buckets, correct, total)"
   ]
  },
  {
   "cell_type": "markdown",
   "metadata": {
    "id": "7PYLz-1STzOu"
   },
   "source": [
    "ANSWER: I would say that this model is poorly calibrated given that there is no apparent correlation between the bucket's value and the model accuracy. In fact, accuracy decreases from 0.9 to 0.999. "
   ]
  },
  {
   "cell_type": "markdown",
   "metadata": {
    "id": "tIeZGen1TzOv"
   },
   "source": [
    "### Question 7 EXTRA CREDIT: Feature generation\n",
    "---\n",
    "1. Design new features to see if you can produce a Bernoulli Naive Bayes model with better performance.\n",
    "1. Show the accuracy of a model based on the original features and the accuracy of the model based on the new features.\n",
    "\n",
    "**Note that improving results is actually hard.**\n",
    "\n",
    "Here are a few ideas to get you started:\n",
    "- Try summing or averaging the pixel values in each row.\n",
    "- Try summing or averaging the pixel values in each column.\n",
    "- Try summing or averaging the pixel values in each square block. (pick various block sizes)\n",
    "- Try implementing [*maxpool*](https://computersciencewiki.org/index.php/Max-pooling_/_Pooling) features, taking a rolling maximum over sub-regions of a the image. \n",
    "- In any case, you can either transform the original data or add new \"features\" to it.\n",
    "\n",
    "Notes:\n",
    "* Train on the mini train set (enhanced to comprise the new features).\n",
    "* Evaulate performance on the dev set.\n",
    "* Ensure that your code is well commented."
   ]
  },
  {
   "cell_type": "code",
   "execution_count": 10,
   "metadata": {
    "id": "6GtYu5ezTzOv"
   },
   "outputs": [
    {
     "ename": "IndentationError",
     "evalue": "expected an indented block (<ipython-input-10-57d016c02e77>, line 7)",
     "output_type": "error",
     "traceback": [
      "\u001b[0;36m  File \u001b[0;32m\"<ipython-input-10-57d016c02e77>\"\u001b[0;36m, line \u001b[0;32m7\u001b[0m\n\u001b[0;31m    Q7()\u001b[0m\n\u001b[0m    ^\u001b[0m\n\u001b[0;31mIndentationError\u001b[0m\u001b[0;31m:\u001b[0m expected an indented block\n"
     ]
    }
   ],
   "source": [
    "def Q7():\n",
    "\n",
    "### STUDENT START ###\n",
    "\n",
    "### STUDENT END ###\n",
    "\n",
    "Q7()"
   ]
  },
  {
   "cell_type": "code",
   "execution_count": null,
   "metadata": {
    "id": "4hOkGA6Rufd6"
   },
   "outputs": [],
   "source": []
  }
 ],
 "metadata": {
  "colab": {
   "collapsed_sections": [],
   "name": "firstname_lastname_project2.ipynb",
   "provenance": []
  },
  "kernelspec": {
   "display_name": "Python 3",
   "language": "python",
   "name": "python3"
  },
  "language_info": {
   "codemirror_mode": {
    "name": "ipython",
    "version": 3
   },
   "file_extension": ".py",
   "mimetype": "text/x-python",
   "name": "python",
   "nbconvert_exporter": "python",
   "pygments_lexer": "ipython3",
   "version": "3.8.8"
  },
  "toc": {
   "base_numbering": 1,
   "nav_menu": {},
   "number_sections": false,
   "sideBar": true,
   "skip_h1_title": true,
   "title_cell": "Table of Contents",
   "title_sidebar": "Contents",
   "toc_cell": false,
   "toc_position": {},
   "toc_section_display": true,
   "toc_window_display": false
  }
 },
 "nbformat": 4,
 "nbformat_minor": 1
}
